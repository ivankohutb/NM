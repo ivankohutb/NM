{
  "nbformat": 4,
  "nbformat_minor": 0,
  "metadata": {
    "colab": {
      "provenance": [],
      "include_colab_link": true
    },
    "kernelspec": {
      "name": "python3",
      "display_name": "Python 3"
    },
    "language_info": {
      "name": "python"
    }
  },
  "cells": [
    {
      "cell_type": "markdown",
      "metadata": {
        "id": "view-in-github",
        "colab_type": "text"
      },
      "source": [
        "<a href=\"https://colab.research.google.com/github/ivankohutb/NM/blob/main/%D0%9B%D0%B0%D0%B1%D0%BE%D1%80%D0%B0%D1%82%D0%BE%D1%80%D0%BD%D0%B0_%D1%80%D0%BE%D0%B1%D0%BE%D1%82%D0%B0_%E2%84%962_%D0%A0%D0%BE%D0%B7%D0%B2'%D1%8F%D0%B7%D0%B0%D0%BD%D0%BD%D1%8F_%D0%BD%D0%B5%D0%BB%D1%96%D0%BD%D1%96%D0%B9%D0%BD%D0%B8%D1%85_%D1%80%D1%96%D0%B2%D0%BD%D1%8F%D0%BD%D1%8C_.ipynb\" target=\"_parent\"><img src=\"https://colab.research.google.com/assets/colab-badge.svg\" alt=\"Open In Colab\"/></a>"
      ]
    },
    {
      "cell_type": "markdown",
      "source": [
        "1. Метод ділення навпіл."
      ],
      "metadata": {
        "id": "VgrW9zRY0dVt"
      }
    },
    {
      "cell_type": "code",
      "execution_count": null,
      "metadata": {
        "colab": {
          "base_uri": "https://localhost:8080/"
        },
        "id": "iOTNXySVyeHy",
        "outputId": "74bfd15a-4d1d-4610-a261-f122ae97c012"
      },
      "outputs": [
        {
          "output_type": "stream",
          "name": "stdout",
          "text": [
            "Результати обчислень\n",
            "\n",
            "          a      F(a)         c      F(c)       b      F(b)\n",
            "0 -3.000000  0.977954 -2.000000  1.135204 -1.0000 -0.454649\n",
            "1 -2.000000  1.135204 -1.500000 -0.123480 -1.0000 -0.454649\n",
            "2 -2.000000  1.135204 -1.750000  0.405593 -1.5000 -0.123480\n",
            "3 -1.750000  0.405593 -1.625000  0.109040 -1.5000 -0.123480\n",
            "4 -1.625000  0.109040 -1.562500 -0.015587 -1.5000 -0.123480\n",
            "5 -1.625000  0.109040 -1.593750  0.044659 -1.5625 -0.015587\n",
            "6 -1.593750  0.044659 -1.578125  0.014015 -1.5625 -0.015587\n",
            "7 -1.578125  0.014015 -1.570312 -0.000917 -1.5625 -0.015587\n",
            "\n",
            "В точці с =  -1.5703125 , f(c) =  -0.0009171268569415665\n"
          ]
        }
      ],
      "source": [
        "import numpy as np\n",
        "import pandas as pd\n",
        "\n",
        "# Визначаємо функцію\n",
        "def f (x):\n",
        "    y = np.cos(x)*np.sin(x)*(x**2+x+1)\n",
        "    return y\n",
        "# Визначаємо границі відрізку\n",
        "a = -3\n",
        "b = -1\n",
        "# Визначаємо точність розв'язку\n",
        "h = 0.001\n",
        "# Поділяємо відрізок навпіл\n",
        "c = (a+b)/2\n",
        "# Зберігаємо результати обчислень\n",
        "data_A = [a]\n",
        "data_B = [b]\n",
        "data_C = [c]\n",
        "data_F_A = [f(a)]\n",
        "data_F_B = [f(b)]\n",
        "data_F_C = [f(c)]\n",
        "# Перевіряємо досягнення точності\n",
        "while abs(f(c)) > h:\n",
        "    # Звужуємо відрізок\n",
        "    if np.sign(f(c)) == np.sign(f(a)):\n",
        "        a = c\n",
        "    else:\n",
        "        b = c\n",
        "    # Поділяємо відрізок навпіл\n",
        "    c = (a+b)/2\n",
        "    # Зберігаємо результати обчислень\n",
        "    data_A.append(a)\n",
        "    data_B.append(b)\n",
        "    data_C.append(c)\n",
        "    data_F_A.append(f(a))\n",
        "    data_F_B.append(f(b))\n",
        "    data_F_C.append(f(c))\n",
        "# Відображаємо результати обчислень\n",
        "print('Результати обчислень')\n",
        "print()\n",
        "data = pd.DataFrame({'a': data_A,\n",
        "                     'F(a)': data_F_A,\n",
        "                     'c': data_C,\n",
        "                     'F(c)': data_F_C,\n",
        "                     'b': data_B,\n",
        "                     'F(b)': data_F_B})\n",
        "print(data)\n",
        "# Відображаємо наближений корінь рівняння\n",
        "print()\n",
        "print('В точці с = ', c, ', f(c) = ', f(c))"
      ]
    },
    {
      "cell_type": "markdown",
      "source": [
        "2. Метод ділення навпіл"
      ],
      "metadata": {
        "id": "5hYa7ucn0PEN"
      }
    },
    {
      "cell_type": "code",
      "source": [
        "import numpy as np\n",
        "import scipy.optimize as sp\n",
        "\n",
        "def f(x):\n",
        "    y = np.cos(x)*np.sin(x)*(x**2+x+1)\n",
        "    return y\n",
        "\n",
        "a = -3\n",
        "b = -1\n",
        "tol = 1.e-3\n",
        "\n",
        "x = sp.bisect(f, a,b,(),tol) #функція для метода\n",
        "\n",
        "print('The approximate solution x is:', x)\n",
        "print('And the value f(x) is:', f(x))"
      ],
      "metadata": {
        "colab": {
          "base_uri": "https://localhost:8080/"
        },
        "id": "ML3KEw5q0H1e",
        "outputId": "3ae37e31-7b51-45a5-bfce-b91df60f95fe"
      },
      "execution_count": null,
      "outputs": [
        {
          "output_type": "stream",
          "name": "stdout",
          "text": [
            "The approximate solution x is: -1.5712890625\n",
            "And the value f(x) is: 0.0009350448126615916\n"
          ]
        }
      ]
    },
    {
      "cell_type": "markdown",
      "source": [
        "3. Метод хорд"
      ],
      "metadata": {
        "id": "sYf0IvR41ufd"
      }
    },
    {
      "cell_type": "code",
      "source": [
        "import numpy as np\n",
        "import pandas as pd\n",
        "# Визначаємо функцію\n",
        "def f(x):\n",
        "    y = np.cos(x)*np.sin(x)*(x**2+x+1)\n",
        "    return y\n",
        "# Визначаємо межі відрізку\n",
        "a = -3\n",
        "b = -1\n",
        "# Визначаємо точність розв'язку\n",
        "h = 0.001\n",
        "# Точка, де хорда перетинає вісь 0x\n",
        "c = (f(a)*b-a*f(b))/(f(a)-f(b))\n",
        "\n",
        "# Зберігаємо результати обчислень\n",
        "data_A = [a]\n",
        "data_B = [b]\n",
        "data_C = [c]\n",
        "data_F_A = [f(a)]\n",
        "data_F_B = [f(b)]\n",
        "data_F_C = [f(c)]\n",
        "# Перевіряємо досягнення точності\n",
        "while abs(f(c)) > h:\n",
        "    # Звужуємо відрізок\n",
        "    if np.sign(f(c)) == np.sign(f(a)):\n",
        "        a = c\n",
        "    else:\n",
        "        b = c\n",
        "    # Точка, де хорда перетинає вісь 0x\n",
        "    c = (f(a)*b-a*f(b))/(f(a)-f(b))\n",
        "    # Зберігаємо результати обчислень\n",
        "    data_A.append(a)\n",
        "    data_B.append(b)\n",
        "    data_C.append(c)\n",
        "    data_F_A.append(f(a))\n",
        "    data_F_B.append(f(b))\n",
        "    data_F_C.append(f(c))\n",
        "# Відображаємо результати обчислень\n",
        "print('Результати обчислень')\n",
        "print()\n",
        "data = pd.DataFrame({'a': data_A, 'F(a)': data_F_A,\n",
        "                     'c': data_C, 'F(c)': data_F_C,\n",
        "                     'b': data_B, 'F(b)': data_F_B})\n",
        "print(data)\n",
        "# Відображаємо наближений корінь рівняння\n",
        "print()\n",
        "print('В точці с = ', c, ', f(c) = ', f(c))"
      ],
      "metadata": {
        "colab": {
          "base_uri": "https://localhost:8080/"
        },
        "id": "3p6i5xHK1y3l",
        "outputId": "9883eb83-7406-4239-b445-cd8bd1d5436b"
      },
      "execution_count": null,
      "outputs": [
        {
          "output_type": "stream",
          "name": "stdout",
          "text": [
            "Результати обчислень\n",
            "\n",
            "          a      F(a)         c      F(c)         b      F(b)\n",
            "0 -3.000000  0.977954 -1.634717  0.129889 -1.000000 -0.454649\n",
            "1 -1.634717  0.129889 -1.493678 -0.133455 -1.000000 -0.454649\n",
            "2 -1.634717  0.129889 -1.565152 -0.010636 -1.493678 -0.133455\n",
            "3 -1.634717  0.129889 -1.570418 -0.000718 -1.565152 -0.010636\n",
            "\n",
            "В точці с =  -1.5704175737258015 , f(c) =  -0.0007180376446871882\n"
          ]
        }
      ]
    },
    {
      "cell_type": "markdown",
      "source": [
        "4. Метод Ньютона (дотичних)"
      ],
      "metadata": {
        "id": "40blPBSK2Cdm"
      }
    },
    {
      "cell_type": "code",
      "source": [
        "import numpy as np\n",
        "import pandas as pd\n",
        "# Визначаємо функцію\n",
        "def f(x):\n",
        "    y = np.cos(x)*np.sin(x)*(x**2+x+1)\n",
        "    return y\n",
        "# Визначаємо першу похідну\n",
        "def df(x):\n",
        "    y1 = -(x**2+x+1)*(np.sin(x))**2\n",
        "    y2 = (x**2+x+1)*(np.cos(x))**2\n",
        "    y3 = (2*x+1)*np.sin(x)*np.cos(x)\n",
        "    y = y1+y2+y3\n",
        "    return y\n",
        "# Визначаємо початкову точку\n",
        "c = -1.4\n",
        "# Визначаємо точність розв'язку\n",
        "h = 0.001\n",
        "# Зберігаємо результати обчислень\n",
        "data_C = [c]\n",
        "data_F_C = [f(c)]\n",
        "# Перевіряємо досягнення точності\n",
        "while abs(f(c)) > h:\n",
        "    # Точка, де дотична перетинає вісь 0x\n",
        "    c -= f(c)/df(c)\n",
        "    # Зберігаємо результати обчислень\n",
        "    data_C.append(c)\n",
        "    data_F_C.append(f(c))\n",
        "# Відображаємо результати обчислень\n",
        "print('Результати обчислень')\n",
        "print()\n",
        "data = pd.DataFrame({'c': data_C, 'F(c)': data_F_C})\n",
        "print(data)\n",
        "# Відображаємо наближений корінь рівняння\n",
        "print()\n",
        "print('В точці с = ', c, ', f(c) = ', f(c))"
      ],
      "metadata": {
        "colab": {
          "base_uri": "https://localhost:8080/"
        },
        "id": "WeGQjbjW2HDz",
        "outputId": "7fd55bf4-4d4c-43ea-ce09-3fbf365aa5c5"
      },
      "execution_count": null,
      "outputs": [
        {
          "output_type": "stream",
          "name": "stdout",
          "text": [
            "Результати обчислень\n",
            "\n",
            "          c      F(c)\n",
            "0 -1.400000 -0.261291\n",
            "1 -1.623636  0.106144\n",
            "2 -1.573564  0.005266\n",
            "3 -1.570805  0.000016\n",
            "\n",
            "В точці с =  -1.5708049170979717 , f(c) =  1.6292567852764437e-05\n"
          ]
        }
      ]
    },
    {
      "cell_type": "markdown",
      "source": [
        "5. Метод Ньютона (дотичних)"
      ],
      "metadata": {
        "id": "qjI38bTp0xCo"
      }
    },
    {
      "cell_type": "code",
      "source": [
        "import numpy as np\n",
        "import scipy.optimize as sp\n",
        "\n",
        "def f(x):\n",
        "    y = np.cos(x)*np.sin(x)*(x**2+x+1)\n",
        "    return y\n",
        "\n",
        "def df(x):# Обчислення похідної\n",
        "    y1 = -(x**2+x+1)*(np.sin(x))**2\n",
        "    y2 = (x**2+x+1)*(np.cos(x))**2\n",
        "    y3 = (2*x+1)*np.sin(x)*np.cos(x)\n",
        "    y = y1+y2+y3\n",
        "    return y\n",
        "\n",
        "x0 = -1.4\n",
        "x1 = 1.4\n",
        "\n",
        "x_0 = sp.newton(f, x0, df, tol=1.e-3, maxiter=50)\n",
        "x_1 = sp.newton(f, x1, df, tol=1.e-3, maxiter=50)\n",
        "\n",
        "print('The approximate solution x is:', x_0)\n",
        "print('And the value f(x_0) is:', f(x_0))\n",
        "\n",
        "print('The approximate solution x is:', x_1)\n",
        "print('And the value f(x_0) is:', f(x_1))"
      ],
      "metadata": {
        "colab": {
          "base_uri": "https://localhost:8080/"
        },
        "id": "AonZxq_H0m6-",
        "outputId": "7acab5b7-6894-4cb1-b0d3-217d498bae02"
      },
      "execution_count": null,
      "outputs": [
        {
          "output_type": "stream",
          "name": "stdout",
          "text": [
            "The approximate solution x is: -1.5707963268782201\n",
            "And the value f(x_0) is: 1.5803176499052036e-10\n",
            "The approximate solution x is: 1.5707963267958693\n",
            "And the value f(x_0) is: -4.9007361645997675e-12\n"
          ]
        }
      ]
    },
    {
      "cell_type": "markdown",
      "source": [
        " # Знаходження коренів рівняння за допомогою бібліотеки SymPy"
      ],
      "metadata": {
        "id": "pvK9N9TH1QD-"
      }
    },
    {
      "cell_type": "code",
      "source": [
        "import sympy as sym\n",
        "\n",
        "x = sym.Symbol('x')\n",
        "\n",
        "y = sym.cos(x)*sym.sin(x)*(x**2+x+1)\n",
        "\n",
        "s = sym.solve(y)\n",
        "\n",
        "print(s)"
      ],
      "metadata": {
        "colab": {
          "base_uri": "https://localhost:8080/"
        },
        "id": "PuAp1WCr08qt",
        "outputId": "36c578b1-b0b4-40d5-8142-44bf252e747d"
      },
      "execution_count": null,
      "outputs": [
        {
          "output_type": "stream",
          "name": "stdout",
          "text": [
            "[0, pi/2, pi, 3*pi/2, -1/2 - sqrt(3)*I/2, -1/2 + sqrt(3)*I/2]\n"
          ]
        }
      ]
    },
    {
      "cell_type": "code",
      "source": [
        "import sympy as sym\n",
        "\n",
        "x, a, b, c = sym.symbols('x, a, b, c')\n",
        "\n",
        "y = a * x**2 + b * x + c\n",
        "\n",
        "s = sym.solve(y, x)\n",
        "\n",
        "print(s)"
      ],
      "metadata": {
        "colab": {
          "base_uri": "https://localhost:8080/"
        },
        "id": "Y0d-uHtp1c7r",
        "outputId": "42a681c2-3c44-4db2-dbe7-7c1615e9bbe9"
      },
      "execution_count": null,
      "outputs": [
        {
          "output_type": "stream",
          "name": "stdout",
          "text": [
            "[(-b - sqrt(-4*a*c + b**2))/(2*a), (-b + sqrt(-4*a*c + b**2))/(2*a)]\n"
          ]
        }
      ]
    },
    {
      "cell_type": "markdown",
      "source": [],
      "metadata": {
        "id": "mk1oBvYj1GC2"
      }
    },
    {
      "cell_type": "code",
      "source": [
        "!pip install numdifftools"
      ],
      "metadata": {
        "colab": {
          "base_uri": "https://localhost:8080/"
        },
        "id": "yiLJNuM3Cq0-",
        "outputId": "9a17e96c-a252-41e7-9123-07e7e934bf2b"
      },
      "execution_count": null,
      "outputs": [
        {
          "output_type": "stream",
          "name": "stdout",
          "text": [
            "Collecting numdifftools\n",
            "  Downloading numdifftools-0.9.41-py2.py3-none-any.whl.metadata (39 kB)\n",
            "Requirement already satisfied: numpy>=1.9 in /usr/local/lib/python3.11/dist-packages (from numdifftools) (2.0.2)\n",
            "Requirement already satisfied: scipy>=0.8 in /usr/local/lib/python3.11/dist-packages (from numdifftools) (1.14.1)\n",
            "Downloading numdifftools-0.9.41-py2.py3-none-any.whl (100 kB)\n",
            "\u001b[2K   \u001b[90m━━━━━━━━━━━━━━━━━━━━━━━━━━━━━━━━━━━━━━━━\u001b[0m \u001b[32m100.2/100.2 kB\u001b[0m \u001b[31m3.7 MB/s\u001b[0m eta \u001b[36m0:00:00\u001b[0m\n",
            "\u001b[?25hInstalling collected packages: numdifftools\n",
            "Successfully installed numdifftools-0.9.41\n"
          ]
        }
      ]
    },
    {
      "cell_type": "code",
      "source": [
        "#Лабораторна робота 2\n",
        "#Відокремлення коренів\n",
        "import numpy as np\n",
        "import numdifftools as nd\n",
        "\n",
        "def f(x):\n",
        "    return 9*x**4 + 8*x**3 + 1.5*x**2 + 2*x - 10\n",
        "\n",
        "\n",
        "def find_segments(): #відокремлюємо корені\n",
        "    search_range = np.arange(-10, 4, 1)\n",
        "\n",
        "    a = None\n",
        "    previous_x = None\n",
        "    current_x  = None\n",
        "    segments = []\n",
        "\n",
        "    for x in search_range:\n",
        "        x = round(x, 4)\n",
        "        current_x = f(x)\n",
        "        if previous_x != None and previous_x * current_x < 0:\n",
        "            segments.append((a, x))\n",
        "        a = x\n",
        "        previous_x = current_x\n",
        "    return segments\n",
        "\n",
        "segments = find_segments()\n",
        "for a, b in segments:\n",
        "    print(f'Found segment:  [{a}, {b}]')\n"
      ],
      "metadata": {
        "colab": {
          "base_uri": "https://localhost:8080/"
        },
        "id": "L-9dn4npCso-",
        "outputId": "37f7abd8-0d9d-49ff-82e4-640b827eae02"
      },
      "execution_count": null,
      "outputs": [
        {
          "output_type": "stream",
          "name": "stdout",
          "text": [
            "Found segment:  [-2, -1]\n",
            "Found segment:  [0, 1]\n"
          ]
        }
      ]
    },
    {
      "cell_type": "code",
      "source": [
        "import numpy as np\n",
        "import matplotlib.pyplot as plt\n",
        "\n",
        "# Визначення функції\n",
        "def f(x):\n",
        "    return 9*x**4 + 8*x**3 + 1.5*x**2 + 2*x - 10\n",
        "\n",
        "# Генерація значень x\n",
        "x = np.linspace(-2, 2, 100)\n",
        "\n",
        "# Генерація значень y\n",
        "y = f(x)\n",
        "\n",
        "# Побудова графіка\n",
        "plt.figure(figsize=(8, 6))\n",
        "plt.plot(x, y, label='9*x^4 + 8*x^3 + 1.5*x^2 + 2*x - 10', color='blue')\n",
        "plt.title('Графік функції 9*x^4 + 8*x^3 + 1.5*x^2 + 2*x - 10')\n",
        "plt.xlabel('x')\n",
        "plt.ylabel('f(x)')\n",
        "\n",
        "# Додавання осей з стрілками\n",
        "plt.axhline(0, color='black', linewidth=0.5)\n",
        "plt.axvline(0, color='black', linewidth=0.5)\n",
        "\n",
        "plt.text(2.05, -4, 'x', ha='center', va='center')\n",
        "plt.text(-0.3, 190, 'y', ha='center', va='center')\n",
        "\n",
        "plt.grid(True)\n",
        "plt.legend()\n",
        "plt.show()\n"
      ],
      "metadata": {
        "colab": {
          "base_uri": "https://localhost:8080/",
          "height": 564
        },
        "id": "7zUI3d1xZXar",
        "outputId": "8062123a-8443-43ce-f945-03895b14575e"
      },
      "execution_count": null,
      "outputs": [
        {
          "output_type": "display_data",
          "data": {
            "text/plain": [
              "<Figure size 800x600 with 1 Axes>"
            ],
            "image/png": "[encoded data removed]"
          },
          "metadata": {}
        }
      ]
    },
    {
      "cell_type": "markdown",
      "source": [
        "![image.png](data:image/png;base64,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)"
      ],
      "metadata": {
        "id": "hUSp_hTRGPk0"
      }
    },
    {
      "cell_type": "code",
      "source": [
        "#Лабораторна робота. Метод половинного ділення, хорд\n",
        "\n",
        "\n",
        "def rec(a, b, eps):  # метод половинного ділення\n",
        "    while (abs(a - b) > eps):\n",
        "        if f(a) * f((a + b) / 2) < 0:\n",
        "            b = (a + b) / 2\n",
        "        else:\n",
        "            a = (a + b) / 2\n",
        "        x = (a + b) / 2\n",
        "\n",
        "    print('x= ', round(x, 5), '  -   Half division method')\n"
      ],
      "metadata": {
        "id": "BgjK94O9Cfxe"
      },
      "execution_count": null,
      "outputs": []
    },
    {
      "cell_type": "code",
      "source": [
        "def hord(a, b, eps):  # метод хорд\n",
        "    derivative_f = nd.Derivative(f, n=1)\n",
        "    if f(a) * derivative_f(a) > 0:\n",
        "        x0 = a\n",
        "        xi = b\n",
        "    else:\n",
        "        x0 = b\n",
        "        xi = a\n",
        "    xi_1 = xi - (xi - x0) * f(xi) / (f(xi) - f(x0))\n",
        "    while (abs(xi_1 - xi) > eps):\n",
        "        xi = xi_1\n",
        "        xi_1 = xi - (xi - x0) * f(xi) / (f(xi) - f(x0))\n",
        "    print('x= ', round(xi_1, 5), '  -   Chord method')\n"
      ],
      "metadata": {
        "id": "Sz_KWVf7D2tL"
      },
      "execution_count": null,
      "outputs": []
    },
    {
      "cell_type": "code",
      "source": [
        "if __name__ == \"__main__\":\n",
        "    a1, b1 = -2, -1\n",
        "    a2, b2 = 0, 1\n",
        "    eps = 0.001\n",
        "    print(\"Розв'язки на відрізку [-2,-1]\")\n",
        "    rec(a1, b1, eps)\n",
        "    hord(a1, b1, eps)\n",
        "    print(\"\\n Розв'язки на відрізку [0,1]\")\n",
        "    rec(a2, b2, eps)\n",
        "    hord(a2, b2, eps)"
      ],
      "metadata": {
        "id": "upx7R4yoFZj_",
        "outputId": "74bf6852-beab-4c10-93d4-15d8d3dcd9e2",
        "colab": {
          "base_uri": "https://localhost:8080/"
        }
      },
      "execution_count": null,
      "outputs": [
        {
          "output_type": "stream",
          "name": "stdout",
          "text": [
            "Розв'язки на відрізку [-2,-1]\n",
            "x=  -1.34521   -   Half division method\n",
            "x=  -1.34509   -   Chord method\n",
            "\n",
            " Розв'язки на відрізку [0,1]\n",
            "x=  0.79053   -   Half division method\n",
            "x=  0.7908   -   Chord method\n"
          ]
        }
      ]
    },
    {
      "cell_type": "code",
      "source": [
        "#Лабораторна робота 3. Метод Ньютона (дотичних). Комбінований метод\n",
        "\n",
        "def nuton(a, b, eps, f):\n",
        "    df2 = nd.Derivative(f, n=2)(b)  # Отримуємо значення похідної другого порядку в точці b\n",
        "    if f(b) * df2 > 0:\n",
        "        xi = b\n",
        "    else:\n",
        "        xi = a\n",
        "    df = nd.Derivative(f, n=1)(xi)  # Отримуємо значення похідної першого порядку в точці xi\n",
        "    xi_1 = xi - f(xi) / df\n",
        "    while abs(xi_1 - xi) > eps:  # перевіряємо точність\n",
        "        xi = xi_1\n",
        "        xi_1 = xi - f(xi) / df\n",
        "    print('Метод Ньютона, x = ', xi_1.round(4))\n",
        "\n",
        "def komb(a, b, eps, f):\n",
        "    df2 = nd.Derivative(f, n=2)(a)\n",
        "    if f(a) * df2 > 0:\n",
        "        a0 = a\n",
        "        b0 = b\n",
        "    else:\n",
        "        a0 = b\n",
        "        b0 = a\n",
        "    ai = a0\n",
        "    bi = b0\n",
        "    while abs(ai - bi) > eps:\n",
        "        ai_1 = ai - f(ai) * (bi - ai) / (f(bi) - f(ai))\n",
        "        bi_1 = bi - f(bi) / nd.Derivative(f, n=1)(bi)\n",
        "        ai = ai_1\n",
        "        bi = bi_1\n",
        "    x = (ai_1 + bi_1) / 2\n",
        "\n",
        "    print('Комбінований метод, x = ', x.round(4))\n",
        "\n",
        "if __name__ == \"__main__\":\n",
        "    a1, b1 = -2, -1\n",
        "    a2, b2 = 0, 1\n",
        "    eps = 0.001\n",
        "\n",
        "    print(\"Розв'язання на відрізку [-2, -1]\")\n",
        "    nuton(a1, b1, eps, f)\n",
        "    komb(a1, b1, eps, f)\n",
        "    print(\"\\n Розв'язання на відрізку [0, 1]\")\n",
        "    nuton(a2, b2, eps, f)\n",
        "    komb(a2, b2, eps, f)"
      ],
      "metadata": {
        "colab": {
          "base_uri": "https://localhost:8080/"
        },
        "id": "uz6OF8g2C-vY",
        "outputId": "f3b547bc-911f-4ec8-bc7f-ad0befdc2a97"
      },
      "execution_count": null,
      "outputs": [
        {
          "output_type": "stream",
          "name": "stdout",
          "text": [
            "Розв'язання на відрізку [-2, -1]\n",
            "Метод Ньютона, x =  -1.3479\n",
            "Комбінований метод, x =  -1.3447\n",
            "\n",
            " Розв'язання на відрізку [0, 1]\n",
            "Метод Ньютона, x =  0.7915\n",
            "Комбінований метод, x =  0.7909\n"
          ]
        }
      ]
    }
  ]
}