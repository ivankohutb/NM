{
  "nbformat": 4,
  "nbformat_minor": 0,
  "metadata": {
    "colab": {
      "provenance": [],
      "include_colab_link": true
    },
    "kernelspec": {
      "name": "python3",
      "display_name": "Python 3"
    },
    "language_info": {
      "name": "python"
    }
  },
  "cells": [
    {
      "cell_type": "markdown",
      "metadata": {
        "id": "view-in-github",
        "colab_type": "text"
      },
      "source": [
        "<a href=\"https://colab.research.google.com/github/ivankohutb/NM/blob/main/%D0%A2%D0%B5%D0%BC%D0%B0_1.ipynb\" target=\"_parent\"><img src=\"https://colab.research.google.com/assets/colab-badge.svg\" alt=\"Open In Colab\"/></a>"
      ]
    },
    {
      "cell_type": "code",
      "execution_count": null,
      "metadata": {
        "colab": {
          "base_uri": "https://localhost:8080/"
        },
        "id": "o6C05dIo6S8t",
        "outputId": "032f2a90-ea34-4f89-cff6-59bd97b156f5"
      },
      "outputs": [
        {
          "output_type": "execute_result",
          "data": {
            "text/plain": [
              "0.0002"
            ]
          },
          "metadata": {},
          "execution_count": 1
        }
      ],
      "source": [
        "0.0001 + 0.0001"
      ]
    },
    {
      "cell_type": "code",
      "source": [
        "0.00085 + 0.00015"
      ],
      "metadata": {
        "colab": {
          "base_uri": "https://localhost:8080/"
        },
        "id": "9B1MiepWXUPC",
        "outputId": "ec1f8d2e-496a-43e4-bc23-6c4db3786b58"
      },
      "execution_count": null,
      "outputs": [
        {
          "output_type": "execute_result",
          "data": {
            "text/plain": [
              "0.001"
            ]
          },
          "metadata": {},
          "execution_count": 2
        }
      ]
    },
    {
      "cell_type": "code",
      "source": [
        "0.3*3"
      ],
      "metadata": {
        "colab": {
          "base_uri": "https://localhost:8080/"
        },
        "id": "qxnWv5tkXjgM",
        "outputId": "e46a1105-6d49-4ba8-c44f-dd3bcd64cca8"
      },
      "execution_count": null,
      "outputs": [
        {
          "output_type": "execute_result",
          "data": {
            "text/plain": [
              "0.8999999999999999"
            ]
          },
          "metadata": {},
          "execution_count": 3
        }
      ]
    },
    {
      "cell_type": "code",
      "source": [
        "# Приклад 1: неточність обчислень з плаваючою комою\n",
        "0.009 + 0.001  # Очікуємо 0.010, але отримаємо 0.009999999999999998"
      ],
      "metadata": {
        "colab": {
          "base_uri": "https://localhost:8080/"
        },
        "id": "HVus0LMb6Y7o",
        "outputId": "673ee50e-e032-4829-86c0-7afeca614f03"
      },
      "execution_count": null,
      "outputs": [
        {
          "output_type": "execute_result",
          "data": {
            "text/plain": [
              "0.009999999999999998"
            ]
          },
          "metadata": {},
          "execution_count": 4
        }
      ]
    },
    {
      "cell_type": "code",
      "source": [
        "# Приклад 2: неточність при відніманні\n",
        "0.3 - 0.2  # Очікуємо 0.1, але отримаємо 0.09999999999999998\n"
      ],
      "metadata": {
        "colab": {
          "base_uri": "https://localhost:8080/"
        },
        "id": "DlpfEvpF6xfe",
        "outputId": "161fa094-44fa-445b-a7ba-977ac5d723ce"
      },
      "execution_count": null,
      "outputs": [
        {
          "output_type": "execute_result",
          "data": {
            "text/plain": [
              "0.09999999999999998"
            ]
          },
          "metadata": {},
          "execution_count": 6
        }
      ]
    },
    {
      "cell_type": "code",
      "source": [
        "0.45 - 0.44"
      ],
      "metadata": {
        "colab": {
          "base_uri": "https://localhost:8080/"
        },
        "id": "mmwSViwzYGDW",
        "outputId": "513f64ed-15f7-441c-91a1-76269d7bf6bc"
      },
      "execution_count": null,
      "outputs": [
        {
          "output_type": "execute_result",
          "data": {
            "text/plain": [
              "0.010000000000000009"
            ]
          },
          "metadata": {},
          "execution_count": 7
        }
      ]
    },
    {
      "cell_type": "code",
      "source": [
        "# Приклад 3: неточність при множенні\n",
        "0.1 * 3  # Очікуємо 0.3, але отримаємо 0.30000000000000004"
      ],
      "metadata": {
        "colab": {
          "base_uri": "https://localhost:8080/"
        },
        "id": "jvPDaD0J60Lu",
        "outputId": "876974d3-f96c-48d4-f784-2c53d3f1ecca"
      },
      "execution_count": null,
      "outputs": [
        {
          "output_type": "execute_result",
          "data": {
            "text/plain": [
              "0.30000000000000004"
            ]
          },
          "metadata": {},
          "execution_count": 8
        }
      ]
    },
    {
      "cell_type": "code",
      "source": [
        "0.33 * 0.3\n"
      ],
      "metadata": {
        "colab": {
          "base_uri": "https://localhost:8080/"
        },
        "id": "op-ukjVIYhb_",
        "outputId": "78bf03f9-82c7-4c08-eb57-c616035eaf09"
      },
      "execution_count": null,
      "outputs": [
        {
          "output_type": "execute_result",
          "data": {
            "text/plain": [
              "0.099"
            ]
          },
          "metadata": {},
          "execution_count": 9
        }
      ]
    },
    {
      "cell_type": "code",
      "source": [
        "# Приклад 4: як виправити проблему за допомогою модуля decimal\n",
        "from decimal import Decimal\n",
        "\n",
        "print(Decimal('0.3') - Decimal('0.2'))  # Отримаємо точно 0.1"
      ],
      "metadata": {
        "colab": {
          "base_uri": "https://localhost:8080/"
        },
        "id": "RvvGJ94w63Ky",
        "outputId": "e9b702fa-8324-4d8b-fe17-dc31a88acec0"
      },
      "execution_count": null,
      "outputs": [
        {
          "output_type": "stream",
          "name": "stdout",
          "text": [
            "0.1\n"
          ]
        }
      ]
    },
    {
      "cell_type": "code",
      "source": [
        "# Приклад 5: округлення значення\n",
        "print(round(0.3 - 0.2, 10))  # Отримаємо 0.1 без неточностi"
      ],
      "metadata": {
        "colab": {
          "base_uri": "https://localhost:8080/"
        },
        "id": "X0m19nP4656I",
        "outputId": "bae81703-e265-4c40-c7f1-a6dcaf5f903f"
      },
      "execution_count": null,
      "outputs": [
        {
          "output_type": "stream",
          "name": "stdout",
          "text": [
            "0.1\n"
          ]
        }
      ]
    },
    {
      "cell_type": "code",
      "source": [
        "# Приклад 6: розрахунок площі кімнати з похибкою\n",
        "room_length = 15.3\n",
        "room_width = 35.33\n",
        "laminate_area = room_length * room_width\n",
        "print(\"Площа кімнати:\", laminate_area)\n",
        "\n",
        "# Виправлення з використанням Decimal\n",
        "print(\"Площа кімнати (точно):\", Decimal(str(room_length)) * Decimal(str(room_width)))"
      ],
      "metadata": {
        "colab": {
          "base_uri": "https://localhost:8080/"
        },
        "id": "d9v1zlu57NfA",
        "outputId": "4700d207-d897-4137-f7e4-0c62bbb1bbef"
      },
      "execution_count": null,
      "outputs": [
        {
          "output_type": "stream",
          "name": "stdout",
          "text": [
            "Площа кімнати: 540.549\n",
            "Площа кімнати (точно): 540.549\n"
          ]
        }
      ]
    },
    {
      "cell_type": "code",
      "source": [
        "a = 0.3 * 0.5\n",
        "a"
      ],
      "metadata": {
        "colab": {
          "base_uri": "https://localhost:8080/"
        },
        "id": "B6z9o9_mZ3N7",
        "outputId": "0a23ca5c-bf8b-4209-c3e1-2ce444061a53"
      },
      "execution_count": null,
      "outputs": [
        {
          "output_type": "execute_result",
          "data": {
            "text/plain": [
              "0.15"
            ]
          },
          "metadata": {},
          "execution_count": 15
        }
      ]
    },
    {
      "cell_type": "code",
      "source": [
        "b = 5.0 * 9.0\n",
        "b"
      ],
      "metadata": {
        "colab": {
          "base_uri": "https://localhost:8080/"
        },
        "id": "NjjF1QQlaAnb",
        "outputId": "b93580dd-3dbc-49c6-9e4f-23aff55cea99"
      },
      "execution_count": null,
      "outputs": [
        {
          "output_type": "execute_result",
          "data": {
            "text/plain": [
              "45.0"
            ]
          },
          "metadata": {},
          "execution_count": 16
        }
      ]
    },
    {
      "cell_type": "code",
      "source": [
        "b/ a"
      ],
      "metadata": {
        "colab": {
          "base_uri": "https://localhost:8080/"
        },
        "id": "VvPxn_vaaF4U",
        "outputId": "0c3518c9-e392-494f-a3c3-afe4b7f99dfd"
      },
      "execution_count": null,
      "outputs": [
        {
          "output_type": "execute_result",
          "data": {
            "text/plain": [
              "300.0"
            ]
          },
          "metadata": {},
          "execution_count": 17
        }
      ]
    },
    {
      "cell_type": "code",
      "source": [
        "300 * a"
      ],
      "metadata": {
        "colab": {
          "base_uri": "https://localhost:8080/"
        },
        "id": "omYTWClAaOkg",
        "outputId": "c988890d-9a66-4c7d-a24d-b6bde739b54c"
      },
      "execution_count": null,
      "outputs": [
        {
          "output_type": "execute_result",
          "data": {
            "text/plain": [
              "45.0"
            ]
          },
          "metadata": {},
          "execution_count": 19
        }
      ]
    },
    {
      "cell_type": "code",
      "source": [
        "\n",
        "# Приклад 7: неточність при діленні\n",
        "print(1 / 3)  # Очікуємо 0.333..., але отримаємо 0.3333333333333333\n",
        "\n"
      ],
      "metadata": {
        "colab": {
          "base_uri": "https://localhost:8080/"
        },
        "id": "QO9u_uBo7Xxc",
        "outputId": "77d8d94a-c2d1-4528-b5c3-c25de45db076"
      },
      "execution_count": null,
      "outputs": [
        {
          "output_type": "stream",
          "name": "stdout",
          "text": [
            "0.3333333333333333\n"
          ]
        }
      ]
    },
    {
      "cell_type": "code",
      "source": [
        "# Виправлення з використанням Decimal\n",
        "print(Decimal('1') / Decimal('3'))  # Отримаємо точне значення\n"
      ],
      "metadata": {
        "colab": {
          "base_uri": "https://localhost:8080/"
        },
        "id": "bD_o8BYS7bAA",
        "outputId": "d1c0169d-0a0d-497a-f2be-9d7028cad6ff"
      },
      "execution_count": null,
      "outputs": [
        {
          "output_type": "stream",
          "name": "stdout",
          "text": [
            "0.3333333333333333333333333333\n"
          ]
        }
      ]
    },
    {
      "cell_type": "code",
      "source": [
        "# Приклад 8: неточність при множенні дробів\n",
        "print(0.1 * 0.2)  # Очікуємо 0.02, але отримаємо 0.020000000000000004\n",
        "\n",
        "# Виправлення з використанням Decimal\n",
        "print(Decimal('0.1') * Decimal('0.2'))  # Отримаємо точно 0.02"
      ],
      "metadata": {
        "colab": {
          "base_uri": "https://localhost:8080/"
        },
        "id": "o6_JegY67f8Y",
        "outputId": "3b4073bc-f6f1-4444-a1a6-d090cf1af009"
      },
      "execution_count": null,
      "outputs": [
        {
          "output_type": "stream",
          "name": "stdout",
          "text": [
            "0.020000000000000004\n",
            "0.02\n"
          ]
        }
      ]
    }
  ]
}